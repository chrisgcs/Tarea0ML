{
 "cells": [
  {
   "cell_type": "code",
   "execution_count": 26,
   "metadata": {},
   "outputs": [
    {
     "name": "stdout",
     "output_type": "stream",
     "text": [
      "Tiempo de ejecución: 0.0049908161 segundos.\n"
     ]
    },
    {
     "data": {
      "image/png": "[encoded data removed]",
      "text/plain": [
       "<Figure size 432x288 with 1 Axes>"
      ]
     },
     "metadata": {
      "needs_background": "light"
     },
     "output_type": "display_data"
    }
   ],
   "source": [
    "from sklearn.datasets import load_breast_cancer\n",
    "from sklearn.preprocessing import StandardScaler\n",
    "import numpy as np\n",
    "import pandas as pd\n",
    "import matplotlib.pyplot as plt\n",
    "from matplotlib.colors import ListedColormap\n",
    "from time import time\n",
    "import math\n",
    "\n",
    "class Perceptron:\n",
    "    def __init__(self,rate,iteraciones):\n",
    "        self.rate = rate\n",
    "        self.iteraciones = iteraciones\n",
    "        \n",
    "    def train(self,x_train, y_expected):\n",
    "        self.numAtributes = x_train.shape[1]\n",
    "        self.weights = np.empty(self.numAtributes)\n",
    "        #print (self.weights)\n",
    "        self.accuracy = []\n",
    "        \n",
    "        for i in range(self.iteraciones):\n",
    "            accuracy = 0\n",
    "            correctos = 0\n",
    "            cont = 1\n",
    "            for x_i,y in zip(x_train,y_expected):\n",
    "                predicted_y = self.calculate_y(x_i)\n",
    "                if predicted_y != y:\n",
    "                    if y == 0:\n",
    "                        y = -1\n",
    "                    y = self.rate*y \n",
    "                    self.weights += y * x_i\n",
    "                else:\n",
    "                    correctos +=1\n",
    "                accuracy = correctos/cont\n",
    "                self.accuracy.append(accuracy)\n",
    "                cont+=1\n",
    "            #print (self.weights)\n",
    "        return self\n",
    "    \n",
    "    def calculate_y(self,x_train):\n",
    "        weights = np.transpose(self.weights)\n",
    "        sum = np.dot(weights,x_train)\n",
    "        y_predict = np.where(sum>=0.0,1,0)\n",
    "        return y_predict\n",
    "    \n",
    "    def sigma(self,epsilon):\n",
    "        ##MAX exp(x) soportado x=709\n",
    "        if -epsilon > 709:\n",
    "            epsilon = -709\n",
    "        return (1/1+math.exp(-epsilon))\n",
    "    \n",
    "    def calculate_y_sigma(self,x_train):\n",
    "        weights = np.transpose(self.weights)\n",
    "        sum = np.dot(weights,x_train)\n",
    "        return self.sigma(sum)\n",
    "    \n",
    "    def loss_function (self,y,y_predicted):\n",
    "        if y_predicted == 0:\n",
    "            log = 8.218407461554972e+307\n",
    "        else:\n",
    "            log = math.log(y_predicted)\n",
    "        if 1-y_predicted == 0:\n",
    "            log2 = 8.218407461554972e+307\n",
    "        else :\n",
    "            log2 = math.log(1-y_predicted)\n",
    "        return (-y*log)-((1-y)*log2)\n",
    "    \n",
    "    def eval_d_l(self,x_train,y):\n",
    "        gradiente = self.calculate_y_sigma(x_train) * (1-self.calculate_y_sigma(x_train)) * x_train\n",
    "        return -y * (1/self.calculate_y_sigma(x_train)) * gradiente - (1-y)*(1/(1-self.calculate_y_sigma(x_train))) * gradiente\n",
    "        \n",
    "data = load_breast_cancer()\n",
    "\n",
    "df = pd.DataFrame(data.data, columns=data.feature_names)\n",
    "X_train,y_train = load_breast_cancer(return_X_y=True)\n",
    "#print (y_train)\n",
    "scaler = StandardScaler().fit(X_train)\n",
    "X_train = scaler.transform(X_train)\n",
    "N = len(X_train)\n",
    "X_train = np.c_[X_train, np.ones(N)]\n",
    "\n",
    "# print (X_train)\n",
    "# for x_i,y in zip(X_train,y_train):\n",
    "#     print (x_i)\n",
    "    \n",
    "ppn = Perceptron (0.1,1)\n",
    "start_time = time()\n",
    "ppn.train(X_train,y_train)\n",
    "elapsed_time = time() - start_time\n",
    "print(\"Tiempo de ejecución: %.10f segundos.\" % elapsed_time)\n",
    "\n",
    "\n",
    "plt.plot(range(1, len(ppn.accuracy) + 1), ppn.accuracy, marker='o')\n",
    "plt.xlabel('Instancia')\n",
    "plt.ylabel('Accuracy')\n",
    " \n",
    "plt.tight_layout()\n",
    "plt.show()"
   ]
  },
  {
   "cell_type": "code",
   "execution_count": 19,
   "metadata": {},
   "outputs": [
    {
     "ename": "ValueError",
     "evalue": "shapes (30,) and (569,30) not aligned: 30 (dim 0) != 569 (dim 0)",
     "output_type": "error",
     "traceback": [
      "\u001b[1;31m---------------------------------------------------------------------------\u001b[0m",
      "\u001b[1;31mValueError\u001b[0m                                Traceback (most recent call last)",
      "\u001b[1;32m<ipython-input-19-f3e5767f1e90>\u001b[0m in \u001b[0;36m<module>\u001b[1;34m\u001b[0m\n\u001b[0;32m      2\u001b[0m \u001b[0mX_train\u001b[0m\u001b[1;33m,\u001b[0m\u001b[0my_train\u001b[0m \u001b[1;33m=\u001b[0m \u001b[0mload_breast_cancer\u001b[0m\u001b[1;33m(\u001b[0m\u001b[0mreturn_X_y\u001b[0m\u001b[1;33m=\u001b[0m\u001b[1;32mTrue\u001b[0m\u001b[1;33m)\u001b[0m\u001b[1;33m\u001b[0m\u001b[0m\n\u001b[0;32m      3\u001b[0m \u001b[0mppn2\u001b[0m\u001b[1;33m.\u001b[0m\u001b[0mtrain\u001b[0m\u001b[1;33m(\u001b[0m\u001b[0mX_train\u001b[0m\u001b[1;33m,\u001b[0m\u001b[0my_train\u001b[0m\u001b[1;33m)\u001b[0m\u001b[1;33m\u001b[0m\u001b[0m\n\u001b[1;32m----> 4\u001b[1;33m \u001b[0mppn2\u001b[0m\u001b[1;33m.\u001b[0m\u001b[0meval_d_l\u001b[0m\u001b[1;33m(\u001b[0m\u001b[0mX_train\u001b[0m\u001b[1;33m,\u001b[0m\u001b[0my_train\u001b[0m\u001b[1;33m)\u001b[0m\u001b[1;33m\u001b[0m\u001b[0m\n\u001b[0m",
      "\u001b[1;32m<ipython-input-18-f35d7b8f95d3>\u001b[0m in \u001b[0;36meval_d_l\u001b[1;34m(self, x_train, y)\u001b[0m\n\u001b[0;32m     67\u001b[0m \u001b[1;33m\u001b[0m\u001b[0m\n\u001b[0;32m     68\u001b[0m     \u001b[1;32mdef\u001b[0m \u001b[0meval_d_l\u001b[0m\u001b[1;33m(\u001b[0m\u001b[0mself\u001b[0m\u001b[1;33m,\u001b[0m\u001b[0mx_train\u001b[0m\u001b[1;33m,\u001b[0m\u001b[0my\u001b[0m\u001b[1;33m)\u001b[0m\u001b[1;33m:\u001b[0m\u001b[1;33m\u001b[0m\u001b[0m\n\u001b[1;32m---> 69\u001b[1;33m         \u001b[0mgradiente\u001b[0m \u001b[1;33m=\u001b[0m \u001b[0mself\u001b[0m\u001b[1;33m.\u001b[0m\u001b[0mcalculate_y_sigma\u001b[0m\u001b[1;33m(\u001b[0m\u001b[0mx_train\u001b[0m\u001b[1;33m)\u001b[0m \u001b[1;33m*\u001b[0m \u001b[1;33m(\u001b[0m\u001b[1;36m1\u001b[0m\u001b[1;33m-\u001b[0m\u001b[0mself\u001b[0m\u001b[1;33m.\u001b[0m\u001b[0mcalculate_y_sigma\u001b[0m\u001b[1;33m(\u001b[0m\u001b[0mx_train\u001b[0m\u001b[1;33m)\u001b[0m\u001b[1;33m)\u001b[0m \u001b[1;33m*\u001b[0m \u001b[0mx_train\u001b[0m\u001b[1;33m\u001b[0m\u001b[0m\n\u001b[0m\u001b[0;32m     70\u001b[0m         \u001b[1;32mreturn\u001b[0m \u001b[1;33m-\u001b[0m\u001b[0my\u001b[0m \u001b[1;33m*\u001b[0m \u001b[1;33m(\u001b[0m\u001b[1;36m1\u001b[0m\u001b[1;33m/\u001b[0m\u001b[0mself\u001b[0m\u001b[1;33m.\u001b[0m\u001b[0mcalculate_y_sigma\u001b[0m\u001b[1;33m(\u001b[0m\u001b[0mx_train\u001b[0m\u001b[1;33m)\u001b[0m\u001b[1;33m)\u001b[0m \u001b[1;33m*\u001b[0m \u001b[0mgradiente\u001b[0m \u001b[1;33m-\u001b[0m \u001b[1;33m(\u001b[0m\u001b[1;36m1\u001b[0m\u001b[1;33m-\u001b[0m\u001b[0my\u001b[0m\u001b[1;33m)\u001b[0m\u001b[1;33m*\u001b[0m\u001b[1;33m(\u001b[0m\u001b[1;36m1\u001b[0m\u001b[1;33m/\u001b[0m\u001b[1;33m(\u001b[0m\u001b[1;36m1\u001b[0m\u001b[1;33m-\u001b[0m\u001b[0mself\u001b[0m\u001b[1;33m.\u001b[0m\u001b[0mcalculate_y_sigma\u001b[0m\u001b[1;33m(\u001b[0m\u001b[0mx_train\u001b[0m\u001b[1;33m)\u001b[0m\u001b[1;33m)\u001b[0m\u001b[1;33m)\u001b[0m \u001b[1;33m*\u001b[0m \u001b[0mgradiente\u001b[0m\u001b[1;33m\u001b[0m\u001b[0m\n\u001b[0;32m     71\u001b[0m \u001b[1;33m\u001b[0m\u001b[0m\n",
      "\u001b[1;32m<ipython-input-18-f35d7b8f95d3>\u001b[0m in \u001b[0;36mcalculate_y_sigma\u001b[1;34m(self, x_train)\u001b[0m\n\u001b[0;32m     52\u001b[0m     \u001b[1;32mdef\u001b[0m \u001b[0mcalculate_y_sigma\u001b[0m\u001b[1;33m(\u001b[0m\u001b[0mself\u001b[0m\u001b[1;33m,\u001b[0m\u001b[0mx_train\u001b[0m\u001b[1;33m)\u001b[0m\u001b[1;33m:\u001b[0m\u001b[1;33m\u001b[0m\u001b[0m\n\u001b[0;32m     53\u001b[0m         \u001b[0mweights\u001b[0m \u001b[1;33m=\u001b[0m \u001b[0mnp\u001b[0m\u001b[1;33m.\u001b[0m\u001b[0mtranspose\u001b[0m\u001b[1;33m(\u001b[0m\u001b[0mself\u001b[0m\u001b[1;33m.\u001b[0m\u001b[0mweights\u001b[0m\u001b[1;33m)\u001b[0m\u001b[1;33m\u001b[0m\u001b[0m\n\u001b[1;32m---> 54\u001b[1;33m         \u001b[0msum\u001b[0m \u001b[1;33m=\u001b[0m \u001b[0mnp\u001b[0m\u001b[1;33m.\u001b[0m\u001b[0mdot\u001b[0m\u001b[1;33m(\u001b[0m\u001b[0mweights\u001b[0m\u001b[1;33m,\u001b[0m\u001b[0mx_train\u001b[0m\u001b[1;33m)\u001b[0m\u001b[1;33m\u001b[0m\u001b[0m\n\u001b[0m\u001b[0;32m     55\u001b[0m         \u001b[1;32mreturn\u001b[0m \u001b[0mself\u001b[0m\u001b[1;33m.\u001b[0m\u001b[0msigma\u001b[0m\u001b[1;33m(\u001b[0m\u001b[0msum\u001b[0m\u001b[1;33m)\u001b[0m\u001b[1;33m\u001b[0m\u001b[0m\n\u001b[0;32m     56\u001b[0m \u001b[1;33m\u001b[0m\u001b[0m\n",
      "\u001b[1;32m<__array_function__ internals>\u001b[0m in \u001b[0;36mdot\u001b[1;34m(*args, **kwargs)\u001b[0m\n",
      "\u001b[1;31mValueError\u001b[0m: shapes (30,) and (569,30) not aligned: 30 (dim 0) != 569 (dim 0)"
     ]
    }
   ],
   "source": [
    "ppn2 = Perceptron(0.1,1)\n",
    "X_train,y_train = load_breast_cancer(return_X_y=True)\n",
    "ppn2.train(X_train,y_train)\n",
    "ppn2.eval_d_l(X_train,y_train)"
   ]
  },
  {
   "cell_type": "code",
   "execution_count": 76,
   "metadata": {},
   "outputs": [
    {
     "name": "stdout",
     "output_type": "stream",
     "text": [
      "-1\n"
     ]
    }
   ],
   "source": [
    "x=1\n",
    "print(-x)"
   ]
  },
  {
   "cell_type": "code",
   "execution_count": null,
   "metadata": {},
   "outputs": [],
   "source": []
  },
  {
   "cell_type": "code",
   "execution_count": null,
   "metadata": {},
   "outputs": [],
   "source": []
  }
 ],
 "metadata": {
  "kernelspec": {
   "display_name": "Python 3",
   "language": "python",
   "name": "python3"
  },
  "language_info": {
   "codemirror_mode": {
    "name": "ipython",
    "version": 3
   },
   "file_extension": ".py",
   "mimetype": "text/x-python",
   "name": "python",
   "nbconvert_exporter": "python",
   "pygments_lexer": "ipython3",
   "version": "3.6.2"
  }
 },
 "nbformat": 4,
 "nbformat_minor": 2
}
