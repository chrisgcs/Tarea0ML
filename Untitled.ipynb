{
 "cells": [
  {
   "cell_type": "code",
   "execution_count": 56,
   "metadata": {},
   "outputs": [],
   "source": [
    "from sklearn.datasets import load_breast_cancer\n",
    "from sklearn.preprocessing import StandardScaler\n",
    "import numpy as np\n",
    "import pandas as pd\n",
    "import matplotlib.pyplot as plt\n",
    "from matplotlib.colors import ListedColormap\n",
    "from time import time\n",
    "import math\n",
    "\n",
    "from sklearn.model_selection import train_test_split\n",
    "from sklearn.metrics import accuracy_score\n",
    "\n",
    "class Perceptron:\n",
    "    def __init__(self,rate,iteraciones):\n",
    "        self.rate = rate\n",
    "        self.iteraciones = iteraciones\n",
    "        \n",
    "    def train(self,x_train, y_expected):\n",
    "        self.numAtributes = x_train.shape[1]\n",
    "        self.weights = np.empty(self.numAtributes)\n",
    "        #print (self.weights)\n",
    "        self.accuracy = []\n",
    "        \n",
    "        for i in range(self.iteraciones):\n",
    "            accuracy = 0\n",
    "            correctos = 0\n",
    "            cont = 1\n",
    "            for x_i,y in zip(x_train,y_expected):\n",
    "                predicted_y = self.calculate_y(x_i)\n",
    "                if predicted_y != y:\n",
    "                    if y == 0:\n",
    "                        y = -1\n",
    "                    y = self.rate*y \n",
    "                    self.weights += y * x_i\n",
    "                else:\n",
    "                    correctos +=1\n",
    "                accuracy = correctos/cont\n",
    "                self.accuracy.append(accuracy)\n",
    "                cont+=1\n",
    "            #print (self.weights)\n",
    "        return self\n",
    "    \n",
    "    def predict(self, x_test,y_test):\n",
    "        weights = np.transpose(self.weights)\n",
    "        y_predicted = []\n",
    "        for x,y in zip(x_test, y_test):\n",
    "            y_predicted.append(np.where(np.dot(weights,x)>=0.0,1,0))\n",
    "        return y_predicted\n",
    "    \n",
    "    def calculate_y(self,x_train):\n",
    "        weights = np.transpose(self.weights)\n",
    "        sum = np.dot(weights,x_train)\n",
    "        y_predict = np.where(sum>=0.0,1,0)\n",
    "        return y_predict\n",
    "    \n",
    "    def sigma(self,epsilon):\n",
    "        ##MAX exp(x) soportado x=709\n",
    "        if -epsilon > 709:\n",
    "            epsilon = -709\n",
    "        return (1/1+math.exp(-epsilon))\n",
    "    \n",
    "    def calculate_y_sigma(self,x_train):\n",
    "        weights = np.transpose(self.weights)\n",
    "        sum = np.dot(weights,x_train)\n",
    "        return self.sigma(sum)\n",
    "    \n",
    "    def loss_function (self,y,y_predicted):\n",
    "        if y_predicted == 0:\n",
    "            log = -8.218407461554972e+307\n",
    "        else:\n",
    "            log = math.log(y_predicted)\n",
    "        if 1-y_predicted == 0:\n",
    "            log2 = -8.218407461554972e+307\n",
    "        else :\n",
    "            log2 = math.log(1-y_predicted)\n",
    "        return (-y*log)-((1-y)*log2)\n",
    "    \n",
    "    def eval_d_l(self,x_train,y):\n",
    "        gradiente = self.calculate_y_sigma(x_train) * (1-self.calculate_y_sigma(x_train)) * x_train\n",
    "        return -y * (1/self.calculate_y_sigma(x_train)) * gradiente - (1-y)*(1/(1-self.calculate_y_sigma(x_train))) * gradiente\n",
    "        \n"
   ]
  },
  {
   "cell_type": "code",
   "execution_count": 57,
   "metadata": {},
   "outputs": [
    {
     "name": "stdout",
     "output_type": "stream",
     "text": [
      "Accuracy is:  0.9707602339181286\n",
      "Tiempo de ejecución: 0.0069801807 segundos.\n"
     ]
    },
    {
     "data": {
      "image/png": "[encoded data removed]",
      "text/plain": [
       "<Figure size 432x288 with 1 Axes>"
      ]
     },
     "metadata": {
      "needs_background": "light"
     },
     "output_type": "display_data"
    }
   ],
   "source": [
    "data = load_breast_cancer()\n",
    "\n",
    "df = pd.DataFrame(data.data, columns=data.feature_names)\n",
    "X,Y = load_breast_cancer(return_X_y=True)\n",
    "#print (y_train)\n",
    "scaler = StandardScaler().fit(X)\n",
    "X = scaler.transform(X)\n",
    "N = len(X)\n",
    "X = np.c_[X, np.ones(N)]\n",
    "\n",
    "X_train, x_test, y_train, y_test = train_test_split(X, Y, test_size=0.3)\n",
    "\n",
    "# print (X_train)\n",
    "# for x_i,y in zip(X_train,y_train):\n",
    "#     print (x_i)\n",
    "    \n",
    "ppn = Perceptron (0.1,1)\n",
    "start_time = time()\n",
    "ppn.train(X_train,y_train)\n",
    "\n",
    "ac = accuracy_score(y_test,ppn.predict(x_test,y_test))\n",
    "print('Accuracy is: ',ac)\n",
    "\n",
    "elapsed_time = time() - start_time\n",
    "print(\"Tiempo de ejecución: %.10f segundos.\" % elapsed_time)\n",
    "\n",
    "\n",
    "plt.plot(range(1, len(ppn.accuracy) + 1), ppn.accuracy, marker='o')\n",
    "plt.xlabel('Instancia')\n",
    "plt.ylabel('Accuracy')\n",
    " \n",
    "plt.tight_layout()\n",
    "plt.show()"
   ]
  },
  {
   "cell_type": "code",
   "execution_count": null,
   "metadata": {},
   "outputs": [],
   "source": []
  }
 ],
 "metadata": {
  "kernelspec": {
   "display_name": "Python 3",
   "language": "python",
   "name": "python3"
  },
  "language_info": {
   "codemirror_mode": {
    "name": "ipython",
    "version": 3
   },
   "file_extension": ".py",
   "mimetype": "text/x-python",
   "name": "python",
   "nbconvert_exporter": "python",
   "pygments_lexer": "ipython3",
   "version": "3.6.2"
  }
 },
 "nbformat": 4,
 "nbformat_minor": 2
}
